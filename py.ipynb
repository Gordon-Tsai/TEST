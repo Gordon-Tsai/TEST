{
 "cells": [
  {
   "cell_type": "code",
   "execution_count": 1,
   "id": "ab8f8df6-3918-4fc6-bb89-6625b0eaaecd",
   "metadata": {},
   "outputs": [],
   "source": [
    "import numpy as np"
   ]
  },
  {
   "cell_type": "code",
   "execution_count": 2,
   "id": "211d74bc-ae19-4b7e-9ab0-2cdbe41b626e",
   "metadata": {},
   "outputs": [],
   "source": [
    "a = np.arange(0,101)"
   ]
  },
  {
   "cell_type": "code",
   "execution_count": 3,
   "id": "0703039a-5ee4-4ac9-a122-541fc6daa7e0",
   "metadata": {},
   "outputs": [],
   "source": [
    "b = 100"
   ]
  },
  {
   "cell_type": "code",
   "execution_count": null,
   "id": "31567f11-2c3e-4adb-8932-634cfdb3552c",
   "metadata": {},
   "outputs": [],
   "source": []
  }
 ],
 "metadata": {
  "jupytext": {
   "formats": "ipynb,md"
  },
  "kernelspec": {
   "display_name": "Python 3 (ipykernel)",
   "language": "python",
   "name": "python3"
  },
  "language_info": {
   "codemirror_mode": {
    "name": "ipython",
    "version": 3
   },
   "file_extension": ".py",
   "mimetype": "text/x-python",
   "name": "python",
   "nbconvert_exporter": "python",
   "pygments_lexer": "ipython3",
   "version": "3.9.9"
  }
 },
 "nbformat": 4,
 "nbformat_minor": 5
}
